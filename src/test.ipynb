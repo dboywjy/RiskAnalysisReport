{
 "cells": [
  {
   "cell_type": "code",
   "execution_count": 1,
   "metadata": {},
   "outputs": [
    {
     "name": "stdout",
     "output_type": "stream",
     "text": [
      "{'status': 'success'}\n"
     ]
    }
   ],
   "source": [
    "import requests\n",
    "import pandas as pd\n",
    "import json\n",
    "\n",
    "# URL中的路径参数: \n",
    "# - user_id = \"12345\"\n",
    "# - action = \"update\"\n",
    "url = \"http://127.0.0.1:8000/process\"\n",
    "# ?currentTime=2024-11-10&language=en\"\n",
    "clientInfo = pd.read_json(\"./inputData/clientInfo.json\")\n",
    "clientInfo = clientInfo.to_dict('records')\n",
    "clientInfo = json.dumps(clientInfo, ensure_ascii=False)\n",
    "\n",
    "# currentTime = \"2024-11-10\"\n",
    "# language = \"en\"\n",
    "\n",
    "json_data = {\n",
    "    \"currentTime\": \"2024-11-10\",\n",
    "    \"language\": \"en\",\n",
    "    \"clientInfo\": clientInfo\n",
    "}\n",
    "\n",
    "response = requests.post(url, json=json_data)\n",
    "print(response.json())"
   ]
  },
  {
   "cell_type": "code",
   "execution_count": null,
   "metadata": {},
   "outputs": [],
   "source": []
  }
 ],
 "metadata": {
  "kernelspec": {
   "display_name": "afe",
   "language": "python",
   "name": "python3"
  },
  "language_info": {
   "codemirror_mode": {
    "name": "ipython",
    "version": 3
   },
   "file_extension": ".py",
   "mimetype": "text/x-python",
   "name": "python",
   "nbconvert_exporter": "python",
   "pygments_lexer": "ipython3",
   "version": "3.11.10"
  }
 },
 "nbformat": 4,
 "nbformat_minor": 2
}
